{
 "cells": [
  {
   "cell_type": "code",
   "execution_count": 58,
   "metadata": {},
   "outputs": [],
   "source": [
    "from typing import List\n",
    "\n",
    "from bs4 import BeautifulSoup, element"
   ]
  },
  {
   "cell_type": "code",
   "execution_count": 53,
   "metadata": {},
   "outputs": [],
   "source": [
    "EX_CLS_NAME = \"pure-u-1 pure-u-md-1-2 pure-u-lg-1-3\""
   ]
  },
  {
   "cell_type": "code",
   "execution_count": 54,
   "metadata": {},
   "outputs": [],
   "source": [
    "with open(\"html.html\", \"r\") as f:\n",
    "    soup = BeautifulSoup(f.read(), features=\"lxml\")"
   ]
  },
  {
   "cell_type": "code",
   "execution_count": 55,
   "metadata": {},
   "outputs": [],
   "source": [
    "exercises = soup.findAll(\"div\", {\"class\": EX_CLS_NAME})"
   ]
  },
  {
   "cell_type": "code",
   "execution_count": 62,
   "metadata": {},
   "outputs": [
    {
     "data": {
      "text/plain": [
       "'easy'"
      ]
     },
     "execution_count": 62,
     "metadata": {},
     "output_type": "execute_result"
    }
   ],
   "source": [
    "class Exercise:\n",
    "    def __init__(self, src):\n",
    "        \"\"\" Storage for singular exercise data retrieved from HTML. \"\"\"\n",
    "        self.src = src\n",
    "        self.state, self.link = self._get_link_and_state(src)\n",
    "        self.title = src.find(\"div\", {\"class\": \"title\"}).text.strip()\n",
    "        self.level = src.find(\"div\", {\"class\": \"stats\"}).text.strip()\n",
    "        self.topics = self._get_topics(src)\n",
    "        \n",
    "    def __str__(self):\n",
    "        return self.title\n",
    "        \n",
    "    @staticmethod\n",
    "    def _get_link_and_state(src: element.Tag) -> List[str]:\n",
    "        marker = src.find(\"a\", {\"class\": \"widget-side-exercise\"})\n",
    "        return marker.attrs.get(\"class\")[-1], marker.attrs.get(\"href\")\n",
    "        \n",
    "    @staticmethod\n",
    "    def _get_topics(src: element.Tag) -> List[str]:\n",
    "        return [topic.text.strip() for topic in src.findAll(\"div\", {\"class\": \"topic\"})]\n",
    "        \n",
    "e = Exercise(exercises[0])\n",
    "e.level"
   ]
  },
  {
   "cell_type": "code",
   "execution_count": 79,
   "metadata": {},
   "outputs": [
    {
     "data": {
      "text/plain": [
       "93"
      ]
     },
     "execution_count": 79,
     "metadata": {},
     "output_type": "execute_result"
    }
   ],
   "source": [
    "class ExerciseManager:\n",
    "    def __init__(self, exercises_list):\n",
    "        if not isinstance(exercises_list[0], Exercise):\n",
    "            self.exercises = [Exercise(e) for e in exercises_list]\n",
    "        else:\n",
    "            self.exercises = exercises_list\n",
    "    \n",
    "    def _filter(self, *args, **kwargs):\n",
    "        result = []\n",
    "        for k, v in kwargs.items():\n",
    "            for e in self.exercises:\n",
    "                if getattr(e, k) == v:\n",
    "                    result.append(e)\n",
    "        return result\n",
    "    \n",
    "EM = ExerciseManager(exercises)\n",
    "len(EM._filter(level=\"easy\", state=\"completed\"))"
   ]
  }
 ],
 "metadata": {
  "kernelspec": {
   "display_name": "Python 3",
   "language": "python",
   "name": "python3"
  },
  "language_info": {
   "codemirror_mode": {
    "name": "ipython",
    "version": 3
   },
   "file_extension": ".py",
   "mimetype": "text/x-python",
   "name": "python",
   "nbconvert_exporter": "python",
   "pygments_lexer": "ipython3",
   "version": "3.7.6"
  }
 },
 "nbformat": 4,
 "nbformat_minor": 4
}
